{
 "cells": [
  {
   "cell_type": "markdown",
   "metadata": {},
   "source": [
    "<center>\n",
    "  <h1>ST7: Modélisation Des Risques Financiers</h1>\n",
    "  <h2>TD2: Markowitz</h2>\n",
    "</center>"
   ]
  },
  {
   "cell_type": "code",
   "execution_count": 59,
   "metadata": {},
   "outputs": [],
   "source": [
    "import numpy as np\n",
    "import matplotlib.pyplot as plt\n",
    "import pandas as pd\n",
    "from scipy.optimize import minimize"
   ]
  },
  {
   "cell_type": "markdown",
   "metadata": {},
   "source": [
    "\n",
    "## Exercice 1. *Data for exercise*\n",
    "\n",
    "We set $\\rho$ as the correlation matrix, $\\sigma$ the vector of standard deviation, $\\Sigma$ the covariance matrix and $\\mu$ as the vector of expected returns."
   ]
  },
  {
   "cell_type": "markdown",
   "metadata": {},
   "source": [
    "Equity USA, Equity EMU, Bond EUR Sovereign, Bond EUR IG Corp. \\& Cash\n",
    "$$\n",
    "\\begin{aligned}\n",
    "& \\mu=[5.7 \\%, 6.6 \\%, 3.3 \\%, 1.6 \\%, 0.2 \\%] \\\\\n",
    "& \\sigma=[14.3 \\%, 16.4 \\%, 8.3 \\%, 4.0 \\%, 0.5 \\%] \\\\\n",
    "& \\rho=\\left(\\begin{array}{ccccc}\n",
    "1.0 & 0.821 & -0.05 & 0.25 & 0 \\\\\n",
    "& 1.0 & -0.14 & 0.10 & 0 \\\\\n",
    "& & 1.0 & 0.67 & 0 \\\\\n",
    "& & & 1.0 & 0 \\\\\n",
    "& & & & 1\n",
    "\\end{array}\\right) \\\\\n",
    "& \\Sigma=\\operatorname{diag}(\\sigma) \\quad \\rho \\quad \\operatorname{diag}(\\sigma) \\\\\n",
    "&\n",
    "\\end{aligned}\n",
    "$$"
   ]
  },
  {
   "cell_type": "code",
   "execution_count": 13,
   "metadata": {},
   "outputs": [
    {
     "name": "stdout",
     "output_type": "stream",
     "text": [
      "(5,) (5,) (5, 5) (5, 5)\n"
     ]
    }
   ],
   "source": [
    "mu = np.array([0.057, 0.066, 0.033, 0.016, 0.002])\n",
    "sigma = np.array([0.143, 0.164, 0.083, 0.040, 0.005])\n",
    "rho = np.array([\n",
    "    [1.0, 0.821, -0.05, 0.25, 0],\n",
    "    [0.821, 1.0, -0.14, 0.10, 0],\n",
    "    [-0.05, -0.14, 1.0, 0.67, 0],\n",
    "    [0.25, 0.10, 0.67, 1.0, 0],\n",
    "    [0, 0, 0, 0, 1.0],\n",
    "])\n",
    "Sigma = np.diag(sigma) @ np.array(rho) @ np.diag(sigma)\n",
    "\n",
    "print(mu.shape, sigma.shape, rho.shape, Sigma.shape)"
   ]
  },
  {
   "cell_type": "markdown",
   "metadata": {},
   "source": [
    "## Exercice 2. *Mean Variance Optimization (MVO)*\n",
    "\n",
    "Checking your code \\& the utility function :\n",
    "$$\n",
    "w_{M V O}=\\operatorname{argmax}\\left(\\hat{\\mu}^T w\\right) \\quad \\text { u.c. } \\quad w^T \\hat{\\Sigma} w \\leq 10 \\%^2\n",
    "$$\n",
    "with $\\hat{\\mu}$ the vector of returns and $\\hat{\\Sigma}$ covariance matrix. Using the previous $\\hat{\\mu}$ and $\\hat{\\Sigma}$ :"
   ]
  },
  {
   "cell_type": "markdown",
   "metadata": {},
   "source": [
    "### a. Install cvxpy"
   ]
  },
  {
   "cell_type": "code",
   "execution_count": 3,
   "metadata": {},
   "outputs": [],
   "source": [
    "import cvxpy as cp"
   ]
  },
  {
   "cell_type": "markdown",
   "metadata": {},
   "source": [
    "### b. What is the value of vector $\\omega_{MVO}$ using cvxpy ?"
   ]
  },
  {
   "cell_type": "code",
   "execution_count": 33,
   "metadata": {},
   "outputs": [
    {
     "name": "stdout",
     "output_type": "stream",
     "text": [
      "===============================================================================\n",
      "                                     CVXPY                                     \n",
      "                                     v1.4.2                                    \n",
      "===============================================================================\n",
      "(CVXPY) Mar 13 10:30:22 AM: Your problem has 5 variables, 2 constraints, and 0 parameters.\n",
      "(CVXPY) Mar 13 10:30:22 AM: It is compliant with the following grammars: DCP, DQCP\n",
      "(CVXPY) Mar 13 10:30:22 AM: (If you need to solve this problem multiple times, but with different data, consider using parameters.)\n",
      "(CVXPY) Mar 13 10:30:22 AM: CVXPY will first compile your problem; then, it will invoke a numerical solver to obtain a solution.\n",
      "(CVXPY) Mar 13 10:30:22 AM: Your problem is compiled with the CPP canonicalization backend.\n",
      "-------------------------------------------------------------------------------\n",
      "                                  Compilation                                  \n",
      "-------------------------------------------------------------------------------\n",
      "(CVXPY) Mar 13 10:30:22 AM: Compiling problem (target solver=ECOS).\n",
      "(CVXPY) Mar 13 10:30:22 AM: Reduction chain: FlipObjective -> Dcp2Cone -> CvxAttr2Constr -> ConeMatrixStuffing -> ECOS\n",
      "(CVXPY) Mar 13 10:30:22 AM: Applying reduction FlipObjective\n",
      "(CVXPY) Mar 13 10:30:22 AM: Applying reduction Dcp2Cone\n",
      "(CVXPY) Mar 13 10:30:22 AM: Applying reduction CvxAttr2Constr\n",
      "(CVXPY) Mar 13 10:30:22 AM: Applying reduction ConeMatrixStuffing\n",
      "(CVXPY) Mar 13 10:30:22 AM: Applying reduction ECOS\n",
      "(CVXPY) Mar 13 10:30:22 AM: Finished problem compilation (took 2.523e-02 seconds).\n",
      "-------------------------------------------------------------------------------\n",
      "                                Numerical solver                               \n",
      "-------------------------------------------------------------------------------\n",
      "(CVXPY) Mar 13 10:30:22 AM: Invoking solver ECOS  to obtain a solution.\n",
      "-------------------------------------------------------------------------------\n",
      "                                    Summary                                    \n",
      "-------------------------------------------------------------------------------\n",
      "ECOS 2.0.10 - (C) embotech GmbH, Zurich Switzerland, 2012-15. Web: www.embotech.com/ECOS\n",
      "\n",
      "It     pcost       dcost      gap   pres   dres    k/t    mu     step   sigma     IR    |   BT\n",
      " 0  -2.199e-03  -4.546e-01  +4e-01  6e-03  3e-01  1e+00  5e-01    ---    ---    1  1  - |  -  - \n",
      " 1  -2.000e-02  -8.305e-02  +6e-02  1e-03  7e-02  1e-01  6e-02  0.8643  2e-03   1  1  1 |  0  0\n",
      " 2  -5.690e-02  -7.139e-02  +1e-02  1e-04  1e-02  2e-02  1e-02  0.9058  7e-02   1  1  1 |  0  0\n",
      " 3  -6.020e-02  -6.195e-02  +2e-03  1e-05  1e-03  2e-03  1e-03  0.8936  1e-02   1  1  1 |  0  0\n",
      " 4  -6.057e-02  -6.063e-02  +5e-05  4e-07  3e-05  5e-05  4e-05  0.9706  1e-04   1  1  1 |  0  0\n",
      " 5  -6.058e-02  -6.058e-02  +1e-06  8e-09  7e-07  1e-06  7e-07  0.9799  2e-04   1  1  1 |  0  0\n",
      " 6  -6.058e-02  -6.058e-02  +1e-08  1e-10  8e-09  1e-08  8e-09  0.9890  1e-04   1  1  1 |  0  0\n",
      " 7  -6.058e-02  -6.058e-02  +1e-10  1e-12  9e-11  1e-10  9e-11  0.9890  1e-04   2  1  1 |  0  0\n",
      "\n",
      "OPTIMAL (within feastol=8.6e-11, reltol=2.0e-09, abstol=1.2e-10).\n",
      "Runtime: 0.000180 seconds.\n",
      "\n",
      "\n",
      "(CVXPY) Mar 13 10:30:22 AM: Problem status: optimal\n",
      "(CVXPY) Mar 13 10:30:22 AM: Optimal value: 6.058e-02\n",
      "(CVXPY) Mar 13 10:30:22 AM: Compilation took 2.523e-02 seconds\n",
      "(CVXPY) Mar 13 10:30:22 AM: Solver (including time spent in interface) took 5.062e-04 seconds\n",
      "\n",
      " Optimal omega for risk = 0.01 : [ 0.13517276  0.37296697  0.88892731 -0.02028307 -0.37678397]\n",
      "\n",
      " Optimal omega for risk = 0.1 : [ 0.43116937  1.17786663  2.81969825 -0.10691253 -3.32182172]\n"
     ]
    }
   ],
   "source": [
    "# Compute value of vector w that maximizes the expected return\n",
    "for risk in [0.01, 0.1]:\n",
    "    w = cp.Variable(5)\n",
    "    objective = cp.Maximize(mu.T @ w)\n",
    "    constraints = [w.T @ Sigma @ w <= risk, cp.sum(w) == 1] # Allowing negative weights because of short selling\n",
    "    problem = cp.Problem(objective, constraints)\n",
    "    problem.solve(verbose=True and (risk == 0.01))\n",
    "    print('\\n Optimal omega for risk = ' + str(risk) + ' :', w.value)"
   ]
  },
  {
   "cell_type": "markdown",
   "metadata": {},
   "source": [
    "### c. Check this outputs using an analytic solution i.e. this solution could be solved without a solver"
   ]
  },
  {
   "cell_type": "markdown",
   "metadata": {},
   "source": [
    "Let's introduce the Lagrangian to solve this problem under constraints:\n",
    "\n",
    "\\begin{align*}\n",
    "    L(w, \\lambda, \\theta) = \\mu^T w - \\lambda (w^T \\Sigma w - 0.1) - \\theta(1 - w^T \\mathbb{1}).\n",
    "\\end{align*}\n",
    "It leads to:\n",
    "\n",
    "\\begin{equation*}\n",
    "    \\frac{\\partial L}{\\partial w} = \\mu - 2 \\lambda \\Sigma w + \\theta \\mathbb{1};\n",
    "\\end{equation*}\n",
    "\n",
    "\\begin{equation*}\n",
    "    \\frac{\\partial L}{\\partial \\lambda} = \\mu^T \\Sigma w - 0.1;\n",
    "\\end{equation*}\n",
    "\n",
    "\\begin{equation*}\n",
    "    \\frac{\\partial L}{\\partial \\theta} = 1 - w^T \\mathbb{1}.\n",
    "\\end{equation*}\n",
    "\n",
    "Cancelling all the derivatives we obtain:\n",
    "\\begin{equation*}\n",
    "    \\Sigma^{-1} \\frac{\\mu + \\theta \\mathbb{1}}{2 \\lambda}  = w.\n",
    "\\end{equation*}\n",
    "\n",
    "Thus,\n",
    "\n",
    "\\begin{equation*}\n",
    "    \\mu^T \\Sigma^{-1} \\mu + \\theta^2 \\mathbb{1}^T \\Sigma^{-1} \\mathbb{1} + 2 \\mu^T \\Sigma^{-1} \\mathbb{1} \\theta = \\frac{4 \\lambda^2}{10};\n",
    "\\end{equation*}\n",
    "\n",
    "\\begin{equation*}\n",
    "    \\mu \\Sigma^{-1} \\mathbb{1} + \\theta \\mathbb{1}^T \\Sigma^{-1} \\mathbb{1} = 2 \\lambda.\n",
    "\\end{equation*}"
   ]
  },
  {
   "cell_type": "markdown",
   "metadata": {},
   "source": [
    "### d. What is the point of these two steps ?"
   ]
  },
  {
   "cell_type": "markdown",
   "metadata": {},
   "source": [
    "### e. What is the value of λ to achieve the same result with the following utility function : $w_{M V O}=\\operatorname{argmax}\\left(\\hat{\\mu}^T w - \\lambda w^T \\hat{\\Sigma} w \\right)$"
   ]
  },
  {
   "cell_type": "code",
   "execution_count": 68,
   "metadata": {},
   "outputs": [
    {
     "name": "stdout",
     "output_type": "stream",
     "text": [
      "Optimal omega for MVO: [ 523.19428667  737.55685911  -33.6814053  -445.31299046 -780.75675003]\n",
      "Optimal lambda for MVO: 0.00010380681822027481\n"
     ]
    }
   ],
   "source": [
    "# Define the objective function\n",
    "def objective(x):\n",
    "    return -np.dot(mu, x[:5]) + x[5] * np.dot(x[:5], np.dot(Sigma, x[:5]))\n",
    "\n",
    "# Define the equality constraint\n",
    "def constraint(x):\n",
    "    return np.sum(x[:5]) - 1\n",
    "\n",
    "# Define the initial guess\n",
    "x0 = np.ones(5) / 5\n",
    "x0 = np.append(x0, 0.3)\n",
    "\n",
    "# Define the bounds for each variable\n",
    "bounds = [(None, None)] * 5 + [(0, None)]\n",
    "\n",
    "# Define the equality constraint\n",
    "eq_cons = {'type': 'eq', 'fun': constraint}\n",
    "\n",
    "# Define the optimization problem\n",
    "problem = minimize(objective, x0, method='SLSQP', bounds=bounds, constraints=[eq_cons])\n",
    "\n",
    "# Print the optimal solution\n",
    "print('Optimal omega for MVO:', problem.x[:5])\n",
    "print('Optimal lambda for MVO:', problem.x[5])\n"
   ]
  },
  {
   "cell_type": "markdown",
   "metadata": {},
   "source": [
    "## Exercice 3. *Efficient frontier*\n",
    "\n",
    "Using the same data as exercice 1 :\n",
    "\n",
    "### a. Draw the efficient frontier for a risk (volatility) ranging from 1% to 15% (likewise, these figures are annualized volatility values)."
   ]
  },
  {
   "cell_type": "code",
   "execution_count": 50,
   "metadata": {},
   "outputs": [
    {
     "data": {
      "image/png": "[encoded data removed]",
      "text/plain": [
       "<Figure size 640x480 with 1 Axes>"
      ]
     },
     "metadata": {},
     "output_type": "display_data"
    }
   ],
   "source": [
    "# Define the range of target risks (volatilities)\n",
    "target_risks = np.linspace(0.01, 0.15, 100)\n",
    "\n",
    "# Compute the optimal weights for each target risk\n",
    "optimal_weights = []\n",
    "for target_risk in target_risks:\n",
    "    w = cp.Variable(5)\n",
    "    objective = cp.Maximize(mu.T @ w)\n",
    "    constraints = [w.T @ Sigma @ w <= target_risk, cp.sum(w) == 1]\n",
    "    problem = cp.Problem(objective, constraints)\n",
    "    problem.solve()\n",
    "    optimal_weights.append(w.value)\n",
    "\n",
    "optimal_weights = np.array(optimal_weights)\n",
    "\n",
    "# Plot the efficient frontier\n",
    "plt.plot(target_risks, mu @ optimal_weights.T, 'k-')\n",
    "plt.xlabel('Target Risk')\n",
    "plt.ylabel('Expected Return')\n",
    "plt.title('Efficient Frontier')\n",
    "plt.show()"
   ]
  },
  {
   "cell_type": "markdown",
   "metadata": {},
   "source": [
    "### b. Comment the obtained results.\n",
    "\n",
    "Increasing the target risk typically leads to an increase in expected return. As investors seek higher returns, they often need to accept greater levels of risk. By setting a higher target risk, investors are essentially signaling their willingness to tolerate more volatility in exchange for potentially higher rewards."
   ]
  }
 ],
 "metadata": {
  "kernelspec": {
   "display_name": "Python 3",
   "language": "python",
   "name": "python3"
  },
  "language_info": {
   "codemirror_mode": {
    "name": "ipython",
    "version": 3
   },
   "file_extension": ".py",
   "mimetype": "text/x-python",
   "name": "python",
   "nbconvert_exporter": "python",
   "pygments_lexer": "ipython3",
   "version": "3.11.3"
  }
 },
 "nbformat": 4,
 "nbformat_minor": 2
}
